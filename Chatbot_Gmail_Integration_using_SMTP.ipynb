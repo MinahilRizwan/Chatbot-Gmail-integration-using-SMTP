{
  "nbformat": 4,
  "nbformat_minor": 0,
  "metadata": {
    "colab": {
      "provenance": []
    },
    "kernelspec": {
      "name": "python3",
      "display_name": "Python 3"
    },
    "language_info": {
      "name": "python"
    }
  },
  "cells": [
    {
      "cell_type": "code",
      "source": [
        "import smtplib\n",
        "from email.message import EmailMessage\n",
        "\n",
        "def send_email(subject, body, to_email, from_email, app_password):\n",
        "    \"\"\"Sends an email using Gmail's SMTP server.\"\"\"\n",
        "    msg = EmailMessage()\n",
        "    msg[\"Subject\"] = subject\n",
        "    msg[\"From\"] = from_email\n",
        "    msg[\"To\"] = to_email\n",
        "    msg.set_content(body)\n",
        "\n",
        "    # Connect to Gmail SMTP server\n",
        "    try:\n",
        "        with smtplib.SMTP(\"smtp.gmail.com\", 587) as smtp:\n",
        "            smtp.starttls()\n",
        "            smtp.login(from_email, app_password)\n",
        "            smtp.send_message(msg)\n",
        "        print(\"Email sent successfully!\")\n",
        "    except Exception as e:\n",
        "        print(f\"Error sending email: {e}\")\n",
        "\n",
        "\n",
        "# Example usage\n",
        "send_email(\n",
        "    subject=\"Hello from your chatbot!\",\n",
        "    body=\"This is a test email sent via Gmail SMTP.\",\n",
        "    to_email=\"to whom you want to send@gmail.com\",\n",
        "    from_email=\"your mail@gmail.com\",\n",
        "    app_password=\"write your app password here\"\n",
        ")"
      ],
      "metadata": {
        "id": "FEYp4Vb6Ye-n"
      },
      "execution_count": null,
      "outputs": []
    },
    {
      "cell_type": "code",
      "source": [
        "import smtplib\n",
        "from email.message import EmailMessage\n",
        "\n",
        "# --- CONFIGURATION ---\n",
        "YOUR_GMAIL = \"Your Gmail.com\"\n",
        "APP_PASSWORD = \"your app password\"  # Replace with your Gmail App Password\n",
        "\n",
        "\n",
        "def send_email(to_email, subject, message_body):\n",
        "    msg = EmailMessage()\n",
        "    msg[\"Subject\"] = subject\n",
        "    msg[\"From\"] = YOUR_GMAIL\n",
        "    msg[\"To\"] = to_email\n",
        "    msg.set_content(message_body)\n",
        "\n",
        "    try:\n",
        "        # Connect to Gmail SMTP server\n",
        "        with smtplib.SMTP(\"smtp.gmail.com\", 587) as smtp:\n",
        "            smtp.starttls()\n",
        "            smtp.login(YOUR_GMAIL, APP_PASSWORD)\n",
        "            smtp.send_message(msg)\n",
        "            print(\"✅ Email sent successfully!\")\n",
        "    except Exception as e:\n",
        "        print(\"❌ Failed to send email:\", e)\n",
        "\n",
        "\n",
        "# --- SIMPLE CHATBOT LOOP ---\n",
        "print(\"🤖 Chatbot: Hi! I can send an email for you.\")\n",
        "to = input(\"Who do you want to email? (enter email address): \")\n",
        "subject = input(\"What's the subject?: \")\n",
        "body = input(\"What should I say?: \")\n",
        "\n",
        "send_email(to, subject, body)\n"
      ],
      "metadata": {
        "id": "O2Lw4ehKZMZr"
      },
      "execution_count": null,
      "outputs": []
    }
  ]
}